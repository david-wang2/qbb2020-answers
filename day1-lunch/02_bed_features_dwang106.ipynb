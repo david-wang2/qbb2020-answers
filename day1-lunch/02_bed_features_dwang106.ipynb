{
 "cells": [
  {
   "cell_type": "markdown",
   "metadata": {},
   "source": [
    "# Learning objectives"
   ]
  },
  {
   "cell_type": "markdown",
   "metadata": {},
   "source": [
    "1. Introduce pandas\n",
    "1. More matplotlib"
   ]
  },
  {
   "cell_type": "markdown",
   "metadata": {},
   "source": [
    "# Load packages"
   ]
  },
  {
   "cell_type": "code",
   "execution_count": 2,
   "metadata": {},
   "outputs": [],
   "source": [
    "import numpy as np\n",
    "import pandas as pd\n",
    "import matplotlib.pyplot as plt"
   ]
  },
  {
   "cell_type": "markdown",
   "metadata": {},
   "source": [
    "# Load K4me3.bed"
   ]
  },
  {
   "cell_type": "code",
   "execution_count": 3,
   "metadata": {},
   "outputs": [
    {
     "name": "stderr",
     "output_type": "stream",
     "text": [
      "/home/protein/Downloads/miniconda3/envs/md/lib/python3.6/site-packages/ipykernel_launcher.py:2: FutureWarning: read_table is deprecated, use read_csv instead, passing sep='\\t'.\n",
      "  \n"
     ]
    },
    {
     "data": {
      "text/html": [
       "<div>\n",
       "<style scoped>\n",
       "    .dataframe tbody tr th:only-of-type {\n",
       "        vertical-align: middle;\n",
       "    }\n",
       "\n",
       "    .dataframe tbody tr th {\n",
       "        vertical-align: top;\n",
       "    }\n",
       "\n",
       "    .dataframe thead th {\n",
       "        text-align: right;\n",
       "    }\n",
       "</style>\n",
       "<table border=\"1\" class=\"dataframe\">\n",
       "  <thead>\n",
       "    <tr style=\"text-align: right;\">\n",
       "      <th></th>\n",
       "      <th>chr</th>\n",
       "      <th>start</th>\n",
       "      <th>end</th>\n",
       "    </tr>\n",
       "  </thead>\n",
       "  <tbody>\n",
       "    <tr>\n",
       "      <th>0</th>\n",
       "      <td>3L</td>\n",
       "      <td>15823270</td>\n",
       "      <td>15830715</td>\n",
       "    </tr>\n",
       "    <tr>\n",
       "      <th>1</th>\n",
       "      <td>2R</td>\n",
       "      <td>11451787</td>\n",
       "      <td>11459612</td>\n",
       "    </tr>\n",
       "    <tr>\n",
       "      <th>2</th>\n",
       "      <td>3R</td>\n",
       "      <td>21665759</td>\n",
       "      <td>21673392</td>\n",
       "    </tr>\n",
       "    <tr>\n",
       "      <th>3</th>\n",
       "      <td>2R</td>\n",
       "      <td>20324929</td>\n",
       "      <td>20331038</td>\n",
       "    </tr>\n",
       "    <tr>\n",
       "      <th>4</th>\n",
       "      <td>3R</td>\n",
       "      <td>19859679</td>\n",
       "      <td>19864278</td>\n",
       "    </tr>\n",
       "    <tr>\n",
       "      <th>5</th>\n",
       "      <td>X</td>\n",
       "      <td>16780987</td>\n",
       "      <td>16791625</td>\n",
       "    </tr>\n",
       "    <tr>\n",
       "      <th>6</th>\n",
       "      <td>X</td>\n",
       "      <td>19681104</td>\n",
       "      <td>19685973</td>\n",
       "    </tr>\n",
       "    <tr>\n",
       "      <th>7</th>\n",
       "      <td>3L</td>\n",
       "      <td>14781905</td>\n",
       "      <td>14791724</td>\n",
       "    </tr>\n",
       "    <tr>\n",
       "      <th>8</th>\n",
       "      <td>2R</td>\n",
       "      <td>24868625</td>\n",
       "      <td>24876436</td>\n",
       "    </tr>\n",
       "    <tr>\n",
       "      <th>9</th>\n",
       "      <td>2L</td>\n",
       "      <td>8081562</td>\n",
       "      <td>8085704</td>\n",
       "    </tr>\n",
       "    <tr>\n",
       "      <th>10</th>\n",
       "      <td>3L</td>\n",
       "      <td>8718820</td>\n",
       "      <td>8723594</td>\n",
       "    </tr>\n",
       "    <tr>\n",
       "      <th>11</th>\n",
       "      <td>3R</td>\n",
       "      <td>24810450</td>\n",
       "      <td>24821651</td>\n",
       "    </tr>\n",
       "    <tr>\n",
       "      <th>12</th>\n",
       "      <td>2L</td>\n",
       "      <td>3463633</td>\n",
       "      <td>3467166</td>\n",
       "    </tr>\n",
       "    <tr>\n",
       "      <th>13</th>\n",
       "      <td>3R</td>\n",
       "      <td>29219154</td>\n",
       "      <td>29227022</td>\n",
       "    </tr>\n",
       "    <tr>\n",
       "      <th>14</th>\n",
       "      <td>2L</td>\n",
       "      <td>8208309</td>\n",
       "      <td>8215244</td>\n",
       "    </tr>\n",
       "    <tr>\n",
       "      <th>15</th>\n",
       "      <td>3L</td>\n",
       "      <td>16129498</td>\n",
       "      <td>16134790</td>\n",
       "    </tr>\n",
       "    <tr>\n",
       "      <th>16</th>\n",
       "      <td>3R</td>\n",
       "      <td>15970052</td>\n",
       "      <td>15975072</td>\n",
       "    </tr>\n",
       "    <tr>\n",
       "      <th>17</th>\n",
       "      <td>X</td>\n",
       "      <td>13819012</td>\n",
       "      <td>13825349</td>\n",
       "    </tr>\n",
       "    <tr>\n",
       "      <th>18</th>\n",
       "      <td>3R</td>\n",
       "      <td>5668599</td>\n",
       "      <td>5671593</td>\n",
       "    </tr>\n",
       "    <tr>\n",
       "      <th>19</th>\n",
       "      <td>3R</td>\n",
       "      <td>24315911</td>\n",
       "      <td>24321726</td>\n",
       "    </tr>\n",
       "    <tr>\n",
       "      <th>20</th>\n",
       "      <td>3R</td>\n",
       "      <td>26054222</td>\n",
       "      <td>26060727</td>\n",
       "    </tr>\n",
       "    <tr>\n",
       "      <th>21</th>\n",
       "      <td>3R</td>\n",
       "      <td>20573119</td>\n",
       "      <td>20577852</td>\n",
       "    </tr>\n",
       "    <tr>\n",
       "      <th>22</th>\n",
       "      <td>2R</td>\n",
       "      <td>22922946</td>\n",
       "      <td>22927660</td>\n",
       "    </tr>\n",
       "    <tr>\n",
       "      <th>23</th>\n",
       "      <td>2L</td>\n",
       "      <td>11126537</td>\n",
       "      <td>11135827</td>\n",
       "    </tr>\n",
       "    <tr>\n",
       "      <th>24</th>\n",
       "      <td>3R</td>\n",
       "      <td>5598980</td>\n",
       "      <td>5601189</td>\n",
       "    </tr>\n",
       "    <tr>\n",
       "      <th>25</th>\n",
       "      <td>2R</td>\n",
       "      <td>13854749</td>\n",
       "      <td>13864064</td>\n",
       "    </tr>\n",
       "    <tr>\n",
       "      <th>26</th>\n",
       "      <td>2R</td>\n",
       "      <td>14500735</td>\n",
       "      <td>14510266</td>\n",
       "    </tr>\n",
       "    <tr>\n",
       "      <th>27</th>\n",
       "      <td>2L</td>\n",
       "      <td>10384700</td>\n",
       "      <td>10390313</td>\n",
       "    </tr>\n",
       "    <tr>\n",
       "      <th>28</th>\n",
       "      <td>X</td>\n",
       "      <td>17655967</td>\n",
       "      <td>17662793</td>\n",
       "    </tr>\n",
       "    <tr>\n",
       "      <th>29</th>\n",
       "      <td>3R</td>\n",
       "      <td>24581804</td>\n",
       "      <td>24585891</td>\n",
       "    </tr>\n",
       "    <tr>\n",
       "      <th>...</th>\n",
       "      <td>...</td>\n",
       "      <td>...</td>\n",
       "      <td>...</td>\n",
       "    </tr>\n",
       "    <tr>\n",
       "      <th>3800</th>\n",
       "      <td>X</td>\n",
       "      <td>4917672</td>\n",
       "      <td>4918570</td>\n",
       "    </tr>\n",
       "    <tr>\n",
       "      <th>3801</th>\n",
       "      <td>3L</td>\n",
       "      <td>1298736</td>\n",
       "      <td>1299201</td>\n",
       "    </tr>\n",
       "    <tr>\n",
       "      <th>3802</th>\n",
       "      <td>X</td>\n",
       "      <td>2141312</td>\n",
       "      <td>2141896</td>\n",
       "    </tr>\n",
       "    <tr>\n",
       "      <th>3803</th>\n",
       "      <td>X</td>\n",
       "      <td>478781</td>\n",
       "      <td>479173</td>\n",
       "    </tr>\n",
       "    <tr>\n",
       "      <th>3804</th>\n",
       "      <td>X</td>\n",
       "      <td>1232213</td>\n",
       "      <td>1232231</td>\n",
       "    </tr>\n",
       "    <tr>\n",
       "      <th>3805</th>\n",
       "      <td>3R</td>\n",
       "      <td>6676616</td>\n",
       "      <td>6676623</td>\n",
       "    </tr>\n",
       "    <tr>\n",
       "      <th>3806</th>\n",
       "      <td>2L</td>\n",
       "      <td>3604425</td>\n",
       "      <td>3604439</td>\n",
       "    </tr>\n",
       "    <tr>\n",
       "      <th>3807</th>\n",
       "      <td>3R</td>\n",
       "      <td>11759272</td>\n",
       "      <td>11759274</td>\n",
       "    </tr>\n",
       "    <tr>\n",
       "      <th>3808</th>\n",
       "      <td>4</td>\n",
       "      <td>225875</td>\n",
       "      <td>226085</td>\n",
       "    </tr>\n",
       "    <tr>\n",
       "      <th>3809</th>\n",
       "      <td>3R</td>\n",
       "      <td>7533680</td>\n",
       "      <td>7533694</td>\n",
       "    </tr>\n",
       "    <tr>\n",
       "      <th>3810</th>\n",
       "      <td>2R</td>\n",
       "      <td>12429513</td>\n",
       "      <td>12431161</td>\n",
       "    </tr>\n",
       "    <tr>\n",
       "      <th>3811</th>\n",
       "      <td>3R</td>\n",
       "      <td>26051576</td>\n",
       "      <td>26052398</td>\n",
       "    </tr>\n",
       "    <tr>\n",
       "      <th>3812</th>\n",
       "      <td>2R</td>\n",
       "      <td>13963938</td>\n",
       "      <td>13966030</td>\n",
       "    </tr>\n",
       "    <tr>\n",
       "      <th>3813</th>\n",
       "      <td>2L</td>\n",
       "      <td>11496884</td>\n",
       "      <td>11499194</td>\n",
       "    </tr>\n",
       "    <tr>\n",
       "      <th>3814</th>\n",
       "      <td>2L</td>\n",
       "      <td>34319</td>\n",
       "      <td>36189</td>\n",
       "    </tr>\n",
       "    <tr>\n",
       "      <th>3815</th>\n",
       "      <td>X</td>\n",
       "      <td>7059840</td>\n",
       "      <td>7061301</td>\n",
       "    </tr>\n",
       "    <tr>\n",
       "      <th>3816</th>\n",
       "      <td>2R</td>\n",
       "      <td>13165736</td>\n",
       "      <td>13168201</td>\n",
       "    </tr>\n",
       "    <tr>\n",
       "      <th>3817</th>\n",
       "      <td>3R</td>\n",
       "      <td>8846862</td>\n",
       "      <td>8846922</td>\n",
       "    </tr>\n",
       "    <tr>\n",
       "      <th>3818</th>\n",
       "      <td>3R</td>\n",
       "      <td>11430546</td>\n",
       "      <td>11430589</td>\n",
       "    </tr>\n",
       "    <tr>\n",
       "      <th>3819</th>\n",
       "      <td>2R</td>\n",
       "      <td>19384414</td>\n",
       "      <td>19385616</td>\n",
       "    </tr>\n",
       "    <tr>\n",
       "      <th>3820</th>\n",
       "      <td>2L</td>\n",
       "      <td>822487</td>\n",
       "      <td>822497</td>\n",
       "    </tr>\n",
       "    <tr>\n",
       "      <th>3821</th>\n",
       "      <td>3R</td>\n",
       "      <td>9024727</td>\n",
       "      <td>9024735</td>\n",
       "    </tr>\n",
       "    <tr>\n",
       "      <th>3822</th>\n",
       "      <td>2L</td>\n",
       "      <td>21259173</td>\n",
       "      <td>21260247</td>\n",
       "    </tr>\n",
       "    <tr>\n",
       "      <th>3823</th>\n",
       "      <td>2L</td>\n",
       "      <td>16419927</td>\n",
       "      <td>16423660</td>\n",
       "    </tr>\n",
       "    <tr>\n",
       "      <th>3824</th>\n",
       "      <td>2L</td>\n",
       "      <td>16261274</td>\n",
       "      <td>16263189</td>\n",
       "    </tr>\n",
       "    <tr>\n",
       "      <th>3825</th>\n",
       "      <td>3R</td>\n",
       "      <td>565835</td>\n",
       "      <td>566082</td>\n",
       "    </tr>\n",
       "    <tr>\n",
       "      <th>3826</th>\n",
       "      <td>2L</td>\n",
       "      <td>10439373</td>\n",
       "      <td>10442085</td>\n",
       "    </tr>\n",
       "    <tr>\n",
       "      <th>3827</th>\n",
       "      <td>3R</td>\n",
       "      <td>4477321</td>\n",
       "      <td>4479529</td>\n",
       "    </tr>\n",
       "    <tr>\n",
       "      <th>3828</th>\n",
       "      <td>3L</td>\n",
       "      <td>711347</td>\n",
       "      <td>711871</td>\n",
       "    </tr>\n",
       "    <tr>\n",
       "      <th>3829</th>\n",
       "      <td>2L</td>\n",
       "      <td>6792695</td>\n",
       "      <td>6795077</td>\n",
       "    </tr>\n",
       "  </tbody>\n",
       "</table>\n",
       "<p>3830 rows × 3 columns</p>\n",
       "</div>"
      ],
      "text/plain": [
       "     chr     start       end\n",
       "0     3L  15823270  15830715\n",
       "1     2R  11451787  11459612\n",
       "2     3R  21665759  21673392\n",
       "3     2R  20324929  20331038\n",
       "4     3R  19859679  19864278\n",
       "5      X  16780987  16791625\n",
       "6      X  19681104  19685973\n",
       "7     3L  14781905  14791724\n",
       "8     2R  24868625  24876436\n",
       "9     2L   8081562   8085704\n",
       "10    3L   8718820   8723594\n",
       "11    3R  24810450  24821651\n",
       "12    2L   3463633   3467166\n",
       "13    3R  29219154  29227022\n",
       "14    2L   8208309   8215244\n",
       "15    3L  16129498  16134790\n",
       "16    3R  15970052  15975072\n",
       "17     X  13819012  13825349\n",
       "18    3R   5668599   5671593\n",
       "19    3R  24315911  24321726\n",
       "20    3R  26054222  26060727\n",
       "21    3R  20573119  20577852\n",
       "22    2R  22922946  22927660\n",
       "23    2L  11126537  11135827\n",
       "24    3R   5598980   5601189\n",
       "25    2R  13854749  13864064\n",
       "26    2R  14500735  14510266\n",
       "27    2L  10384700  10390313\n",
       "28     X  17655967  17662793\n",
       "29    3R  24581804  24585891\n",
       "...   ..       ...       ...\n",
       "3800   X   4917672   4918570\n",
       "3801  3L   1298736   1299201\n",
       "3802   X   2141312   2141896\n",
       "3803   X    478781    479173\n",
       "3804   X   1232213   1232231\n",
       "3805  3R   6676616   6676623\n",
       "3806  2L   3604425   3604439\n",
       "3807  3R  11759272  11759274\n",
       "3808   4    225875    226085\n",
       "3809  3R   7533680   7533694\n",
       "3810  2R  12429513  12431161\n",
       "3811  3R  26051576  26052398\n",
       "3812  2R  13963938  13966030\n",
       "3813  2L  11496884  11499194\n",
       "3814  2L     34319     36189\n",
       "3815   X   7059840   7061301\n",
       "3816  2R  13165736  13168201\n",
       "3817  3R   8846862   8846922\n",
       "3818  3R  11430546  11430589\n",
       "3819  2R  19384414  19385616\n",
       "3820  2L    822487    822497\n",
       "3821  3R   9024727   9024735\n",
       "3822  2L  21259173  21260247\n",
       "3823  2L  16419927  16423660\n",
       "3824  2L  16261274  16263189\n",
       "3825  3R    565835    566082\n",
       "3826  2L  10439373  10442085\n",
       "3827  3R   4477321   4479529\n",
       "3828  3L    711347    711871\n",
       "3829  2L   6792695   6795077\n",
       "\n",
       "[3830 rows x 3 columns]"
      ]
     },
     "execution_count": 3,
     "metadata": {},
     "output_type": "execute_result"
    }
   ],
   "source": [
    "bed_columns = [\"chr\", \"start\", \"end\"]\n",
    "df_k4 = pd.read_table( \"../../qbb2020/data/K4me3.bed\", names=bed_columns )\n",
    "df_k4"
   ]
  },
  {
   "cell_type": "code",
   "execution_count": 4,
   "metadata": {},
   "outputs": [
    {
     "data": {
      "text/plain": [
       "pandas.core.frame.DataFrame"
      ]
     },
     "execution_count": 4,
     "metadata": {},
     "output_type": "execute_result"
    }
   ],
   "source": [
    "type( df_k4 )"
   ]
  },
  {
   "cell_type": "markdown",
   "metadata": {},
   "source": [
    "# Work with data frames"
   ]
  },
  {
   "cell_type": "code",
   "execution_count": 5,
   "metadata": {},
   "outputs": [
    {
     "data": {
      "text/plain": [
       "Index(['chr', 'start', 'end'], dtype='object')"
      ]
     },
     "execution_count": 5,
     "metadata": {},
     "output_type": "execute_result"
    }
   ],
   "source": [
    "df_k4.columns"
   ]
  },
  {
   "cell_type": "code",
   "execution_count": 6,
   "metadata": {},
   "outputs": [
    {
     "data": {
      "text/plain": [
       "RangeIndex(start=0, stop=3830, step=1)"
      ]
     },
     "execution_count": 6,
     "metadata": {},
     "output_type": "execute_result"
    }
   ],
   "source": [
    "df_k4.index"
   ]
  },
  {
   "cell_type": "code",
   "execution_count": 7,
   "metadata": {},
   "outputs": [
    {
     "data": {
      "text/plain": [
       "array([['3L', 15823270, 15830715],\n",
       "       ['2R', 11451787, 11459612],\n",
       "       ['3R', 21665759, 21673392],\n",
       "       ..., \n",
       "       ['3R', 4477321, 4479529],\n",
       "       ['3L', 711347, 711871],\n",
       "       ['2L', 6792695, 6795077]], dtype=object)"
      ]
     },
     "execution_count": 7,
     "metadata": {},
     "output_type": "execute_result"
    }
   ],
   "source": [
    "df_k4.values"
   ]
  },
  {
   "cell_type": "code",
   "execution_count": 8,
   "metadata": {},
   "outputs": [
    {
     "data": {
      "text/plain": [
       "(3830, 3)"
      ]
     },
     "execution_count": 8,
     "metadata": {},
     "output_type": "execute_result"
    }
   ],
   "source": [
    "df_k4.shape"
   ]
  },
  {
   "cell_type": "code",
   "execution_count": 9,
   "metadata": {},
   "outputs": [
    {
     "data": {
      "text/plain": [
       "'3L'"
      ]
     },
     "execution_count": 9,
     "metadata": {},
     "output_type": "execute_result"
    }
   ],
   "source": [
    "df_k4.loc[0,\"chr\"]"
   ]
  },
  {
   "cell_type": "code",
   "execution_count": 10,
   "metadata": {},
   "outputs": [
    {
     "data": {
      "text/plain": [
       "0       3L\n",
       "1       2R\n",
       "2       3R\n",
       "3       2R\n",
       "4       3R\n",
       "5        X\n",
       "6        X\n",
       "7       3L\n",
       "8       2R\n",
       "9       2L\n",
       "10      3L\n",
       "11      3R\n",
       "12      2L\n",
       "13      3R\n",
       "14      2L\n",
       "15      3L\n",
       "16      3R\n",
       "17       X\n",
       "18      3R\n",
       "19      3R\n",
       "20      3R\n",
       "21      3R\n",
       "22      2R\n",
       "23      2L\n",
       "24      3R\n",
       "25      2R\n",
       "26      2R\n",
       "27      2L\n",
       "28       X\n",
       "29      3R\n",
       "        ..\n",
       "3800     X\n",
       "3801    3L\n",
       "3802     X\n",
       "3803     X\n",
       "3804     X\n",
       "3805    3R\n",
       "3806    2L\n",
       "3807    3R\n",
       "3808     4\n",
       "3809    3R\n",
       "3810    2R\n",
       "3811    3R\n",
       "3812    2R\n",
       "3813    2L\n",
       "3814    2L\n",
       "3815     X\n",
       "3816    2R\n",
       "3817    3R\n",
       "3818    3R\n",
       "3819    2R\n",
       "3820    2L\n",
       "3821    3R\n",
       "3822    2L\n",
       "3823    2L\n",
       "3824    2L\n",
       "3825    3R\n",
       "3826    2L\n",
       "3827    3R\n",
       "3828    3L\n",
       "3829    2L\n",
       "Name: chr, Length: 3830, dtype: object"
      ]
     },
     "execution_count": 10,
     "metadata": {},
     "output_type": "execute_result"
    }
   ],
   "source": [
    "df_k4.loc[:,\"chr\"]"
   ]
  },
  {
   "cell_type": "markdown",
   "metadata": {},
   "source": [
    "# Chromosomes"
   ]
  },
  {
   "cell_type": "markdown",
   "metadata": {},
   "source": [
    "## Demo"
   ]
  },
  {
   "cell_type": "code",
   "execution_count": 11,
   "metadata": {},
   "outputs": [
    {
     "data": {
      "text/plain": [
       "3R                     897\n",
       "2R                     799\n",
       "3L                     773\n",
       "2L                     713\n",
       "X                      580\n",
       "4                       65\n",
       "Y                        2\n",
       "Y_CP007111v1_random      1\n",
       "Name: chr, dtype: int64"
      ]
     },
     "execution_count": 11,
     "metadata": {},
     "output_type": "execute_result"
    }
   ],
   "source": [
    "chr_k4 = df_k4.loc[:,\"chr\"]\n",
    "chr_k4 = chr_k4.value_counts()\n",
    "chr_k4"
   ]
  },
  {
   "cell_type": "code",
   "execution_count": 12,
   "metadata": {},
   "outputs": [
    {
     "data": {
      "text/plain": [
       "pandas.core.series.Series"
      ]
     },
     "execution_count": 12,
     "metadata": {},
     "output_type": "execute_result"
    }
   ],
   "source": [
    "type( chr_k4 )"
   ]
  },
  {
   "cell_type": "code",
   "execution_count": 13,
   "metadata": {},
   "outputs": [
    {
     "data": {
      "text/plain": [
       "(8,)"
      ]
     },
     "execution_count": 13,
     "metadata": {},
     "output_type": "execute_result"
    }
   ],
   "source": [
    "chr_k4.shape"
   ]
  },
  {
   "cell_type": "code",
   "execution_count": 14,
   "metadata": {},
   "outputs": [
    {
     "data": {
      "text/plain": [
       "713"
      ]
     },
     "execution_count": 14,
     "metadata": {},
     "output_type": "execute_result"
    }
   ],
   "source": [
    "chr_k4.loc[\"2L\"]"
   ]
  },
  {
   "cell_type": "code",
   "execution_count": 15,
   "metadata": {},
   "outputs": [
    {
     "data": {
      "text/plain": [
       "2L    713\n",
       "2R    799\n",
       "Name: chr, dtype: int64"
      ]
     },
     "execution_count": 15,
     "metadata": {},
     "output_type": "execute_result"
    }
   ],
   "source": [
    "coi = [\"2L\", \"2R\"]\n",
    "chr_k4.loc[ coi ]"
   ]
  },
  {
   "cell_type": "code",
   "execution_count": 16,
   "metadata": {},
   "outputs": [
    {
     "data": {
      "text/plain": [
       "Index(['3R', '2R', '3L', '2L', 'X', '4', 'Y', 'Y_CP007111v1_random'], dtype='object')"
      ]
     },
     "execution_count": 16,
     "metadata": {},
     "output_type": "execute_result"
    }
   ],
   "source": [
    "chr_k4.index"
   ]
  },
  {
   "cell_type": "code",
   "execution_count": 17,
   "metadata": {},
   "outputs": [
    {
     "data": {
      "image/png": "[encoded data removed]",
      "text/plain": [
       "<Figure size 432x288 with 1 Axes>"
      ]
     },
     "metadata": {
      "needs_background": "light"
     },
     "output_type": "display_data"
    }
   ],
   "source": [
    "fig, ax = plt.subplots()\n",
    "ax.bar( chr_k4.index, chr_k4 )\n",
    "plt.show()"
   ]
  },
  {
   "cell_type": "markdown",
   "metadata": {},
   "source": [
    "## Question 1: Tidy up K4"
   ]
  },
  {
   "cell_type": "markdown",
   "metadata": {},
   "source": [
    "### Sort the chromosomes"
   ]
  },
  {
   "cell_type": "code",
   "execution_count": 19,
   "metadata": {},
   "outputs": [
    {
     "data": {
      "text/plain": [
       "2L                     713\n",
       "2R                     799\n",
       "3L                     773\n",
       "3R                     897\n",
       "4                       65\n",
       "X                      580\n",
       "Y                        2\n",
       "Y_CP007111v1_random      1\n",
       "Name: chr, dtype: int64"
      ]
     },
     "execution_count": 19,
     "metadata": {},
     "output_type": "execute_result"
    }
   ],
   "source": [
    "chr_k4.sort_index()"
   ]
  },
  {
   "cell_type": "markdown",
   "metadata": {},
   "source": [
    "### Add a title, and axis labels"
   ]
  },
  {
   "cell_type": "code",
   "execution_count": 40,
   "metadata": {},
   "outputs": [
    {
     "data": {
      "image/png": "[encoded data removed]",
      "text/plain": [
       "<Figure size 432x288 with 1 Axes>"
      ]
     },
     "metadata": {
      "needs_background": "light"
     },
     "output_type": "display_data"
    }
   ],
   "source": [
    "fig, ax = plt.subplots()\n",
    "ax.bar( chr_k4.index, chr_k4 )\n",
    "ax.set_title(\"K4 Count by Chromosome\")\n",
    "ax.set_xlabel(\"Chromosome\")\n",
    "ax.set_ylabel(\"Counts\")\n",
    "plt.xticks(rotation=20,ha='right') # turns the xticks to an angle\n",
    "plt.show()"
   ]
  },
  {
   "cell_type": "markdown",
   "metadata": {},
   "source": [
    "## Question 2: Subplot K9 K27\n",
    "\n",
    "1. Plot K4, K9, and K27 chromosome distributions on the same plot as subplots."
   ]
  },
  {
   "cell_type": "markdown",
   "metadata": {},
   "source": [
    "#### Load K9 and K27 chromosome distributions"
   ]
  },
  {
   "cell_type": "code",
   "execution_count": 33,
   "metadata": {},
   "outputs": [
    {
     "name": "stdout",
     "output_type": "stream",
     "text": [
      "(296, 3)\n",
      "(431, 3)\n"
     ]
    },
    {
     "name": "stderr",
     "output_type": "stream",
     "text": [
      "/home/protein/Downloads/miniconda3/envs/md/lib/python3.6/site-packages/ipykernel_launcher.py:2: FutureWarning: read_table is deprecated, use read_csv instead, passing sep='\\t'.\n",
      "  \n",
      "/home/protein/Downloads/miniconda3/envs/md/lib/python3.6/site-packages/ipykernel_launcher.py:3: FutureWarning: read_table is deprecated, use read_csv instead, passing sep='\\t'.\n",
      "  This is separate from the ipykernel package so we can avoid doing imports until\n"
     ]
    }
   ],
   "source": [
    "bed_columns = [\"chr\", \"start\", \"end\"]\n",
    "df_k9 = pd.read_table( \"../../qbb2020/data/K9me3.bed\", names=bed_columns )\n",
    "df_k27 = pd.read_table( \"../../qbb2020/data/K27me3.bed\", names=bed_columns )\n",
    "print(df_k9.shape)\n",
    "print(df_k27.shape)"
   ]
  },
  {
   "cell_type": "markdown",
   "metadata": {},
   "source": [
    "#### Load K9 and K27 chromosome distributions and sort by index"
   ]
  },
  {
   "cell_type": "code",
   "execution_count": 38,
   "metadata": {},
   "outputs": [
    {
     "name": "stdout",
     "output_type": "stream",
     "text": [
      "3L                     67\n",
      "X                      61\n",
      "2L                     53\n",
      "3R                     51\n",
      "2R                     50\n",
      "4                      11\n",
      "Y                       2\n",
      "Y_DS483690v1_random     1\n",
      "Name: chr, dtype: int64\n",
      "\n",
      "\n",
      "2R               102\n",
      "3R                90\n",
      "3L                89\n",
      "2L                80\n",
      "X                 64\n",
      "4                  5\n",
      "Un_CP007080v1      1\n",
      "Name: chr, dtype: int64\n"
     ]
    }
   ],
   "source": [
    "chr_k9 = df_k9.loc[:,\"chr\"]\n",
    "chr_k9 = chr_k9.value_counts()\n",
    "chr_k9.sort_index()\n",
    "print(chr_k9)\n",
    "\n",
    "print('\\n')\n",
    "\n",
    "chr_k27 = df_k27.loc[:,\"chr\"]\n",
    "chr_k27 = chr_k27.value_counts()\n",
    "chr_k27.sort_index()\n",
    "print(chr_k27)"
   ]
  },
  {
   "cell_type": "markdown",
   "metadata": {},
   "source": [
    "#### Plot all histogram distributions using subplot"
   ]
  },
  {
   "cell_type": "code",
   "execution_count": 57,
   "metadata": {},
   "outputs": [
    {
     "data": {
      "image/png": "[encoded data removed]",
      "text/plain": [
       "<Figure size 432x1080 with 3 Axes>"
      ]
     },
     "metadata": {
      "needs_background": "light"
     },
     "output_type": "display_data"
    }
   ],
   "source": [
    "fig, ax = plt.subplots(nrows=3)\n",
    "\n",
    "### plot the bar graphs of the various distributions\n",
    "ax[0].bar(chr_k4.index, chr_k4 )\n",
    "ax[1].bar(chr_k9.index,chr_k9 )\n",
    "ax[2].bar(chr_k27.index,chr_k27)\n",
    "\n",
    "# Set figure height\n",
    "fig.set_figheight(15)\n",
    "\n",
    "# Set title and x and y labels\n",
    "ax[0].set_title(\"K4 Counts per Chromosome\")\n",
    "ax[0].set_xlabel(\"Chromosome\")\n",
    "ax[0].set_xticklabels(chr_k4.index,rotation = 30, ha = 'right')\n",
    "ax[0].set_ylabel(\"Counts\")\n",
    "\n",
    "ax[1].set_title(\"K9 Counts per Chromosome\")\n",
    "ax[1].set_xlabel(\"Chromosome\")\n",
    "ax[1].set_xticklabels(chr_k9.index,rotation = 30, ha = 'right')\n",
    "ax[1].set_ylabel(\"Counts\")\n",
    "\n",
    "ax[2].set_title(\"K27 Counts per Chromosome\")\n",
    "ax[2].set_xlabel(\"Chromosome\")\n",
    "ax[2].set_xticklabels(chr_k27.index,rotation = 30, ha = 'right')\n",
    "ax[2].set_ylabel(\"Counts\")\n",
    "\n",
    "fig.tight_layout(pad=2.0)\n",
    "plt.show()"
   ]
  },
  {
   "cell_type": "markdown",
   "metadata": {},
   "source": [
    "# Widths"
   ]
  },
  {
   "cell_type": "markdown",
   "metadata": {},
   "source": [
    "## Demo"
   ]
  },
  {
   "cell_type": "code",
   "execution_count": 58,
   "metadata": {},
   "outputs": [
    {
     "data": {
      "text/html": [
       "<div>\n",
       "<style scoped>\n",
       "    .dataframe tbody tr th:only-of-type {\n",
       "        vertical-align: middle;\n",
       "    }\n",
       "\n",
       "    .dataframe tbody tr th {\n",
       "        vertical-align: top;\n",
       "    }\n",
       "\n",
       "    .dataframe thead th {\n",
       "        text-align: right;\n",
       "    }\n",
       "</style>\n",
       "<table border=\"1\" class=\"dataframe\">\n",
       "  <thead>\n",
       "    <tr style=\"text-align: right;\">\n",
       "      <th></th>\n",
       "      <th>chr</th>\n",
       "      <th>start</th>\n",
       "      <th>end</th>\n",
       "      <th>width</th>\n",
       "    </tr>\n",
       "  </thead>\n",
       "  <tbody>\n",
       "    <tr>\n",
       "      <th>0</th>\n",
       "      <td>3L</td>\n",
       "      <td>15823270</td>\n",
       "      <td>15830715</td>\n",
       "      <td>7445</td>\n",
       "    </tr>\n",
       "    <tr>\n",
       "      <th>1</th>\n",
       "      <td>2R</td>\n",
       "      <td>11451787</td>\n",
       "      <td>11459612</td>\n",
       "      <td>7825</td>\n",
       "    </tr>\n",
       "    <tr>\n",
       "      <th>2</th>\n",
       "      <td>3R</td>\n",
       "      <td>21665759</td>\n",
       "      <td>21673392</td>\n",
       "      <td>7633</td>\n",
       "    </tr>\n",
       "    <tr>\n",
       "      <th>3</th>\n",
       "      <td>2R</td>\n",
       "      <td>20324929</td>\n",
       "      <td>20331038</td>\n",
       "      <td>6109</td>\n",
       "    </tr>\n",
       "    <tr>\n",
       "      <th>4</th>\n",
       "      <td>3R</td>\n",
       "      <td>19859679</td>\n",
       "      <td>19864278</td>\n",
       "      <td>4599</td>\n",
       "    </tr>\n",
       "    <tr>\n",
       "      <th>5</th>\n",
       "      <td>X</td>\n",
       "      <td>16780987</td>\n",
       "      <td>16791625</td>\n",
       "      <td>10638</td>\n",
       "    </tr>\n",
       "    <tr>\n",
       "      <th>6</th>\n",
       "      <td>X</td>\n",
       "      <td>19681104</td>\n",
       "      <td>19685973</td>\n",
       "      <td>4869</td>\n",
       "    </tr>\n",
       "    <tr>\n",
       "      <th>7</th>\n",
       "      <td>3L</td>\n",
       "      <td>14781905</td>\n",
       "      <td>14791724</td>\n",
       "      <td>9819</td>\n",
       "    </tr>\n",
       "    <tr>\n",
       "      <th>8</th>\n",
       "      <td>2R</td>\n",
       "      <td>24868625</td>\n",
       "      <td>24876436</td>\n",
       "      <td>7811</td>\n",
       "    </tr>\n",
       "    <tr>\n",
       "      <th>9</th>\n",
       "      <td>2L</td>\n",
       "      <td>8081562</td>\n",
       "      <td>8085704</td>\n",
       "      <td>4142</td>\n",
       "    </tr>\n",
       "    <tr>\n",
       "      <th>10</th>\n",
       "      <td>3L</td>\n",
       "      <td>8718820</td>\n",
       "      <td>8723594</td>\n",
       "      <td>4774</td>\n",
       "    </tr>\n",
       "    <tr>\n",
       "      <th>11</th>\n",
       "      <td>3R</td>\n",
       "      <td>24810450</td>\n",
       "      <td>24821651</td>\n",
       "      <td>11201</td>\n",
       "    </tr>\n",
       "    <tr>\n",
       "      <th>12</th>\n",
       "      <td>2L</td>\n",
       "      <td>3463633</td>\n",
       "      <td>3467166</td>\n",
       "      <td>3533</td>\n",
       "    </tr>\n",
       "    <tr>\n",
       "      <th>13</th>\n",
       "      <td>3R</td>\n",
       "      <td>29219154</td>\n",
       "      <td>29227022</td>\n",
       "      <td>7868</td>\n",
       "    </tr>\n",
       "    <tr>\n",
       "      <th>14</th>\n",
       "      <td>2L</td>\n",
       "      <td>8208309</td>\n",
       "      <td>8215244</td>\n",
       "      <td>6935</td>\n",
       "    </tr>\n",
       "    <tr>\n",
       "      <th>15</th>\n",
       "      <td>3L</td>\n",
       "      <td>16129498</td>\n",
       "      <td>16134790</td>\n",
       "      <td>5292</td>\n",
       "    </tr>\n",
       "    <tr>\n",
       "      <th>16</th>\n",
       "      <td>3R</td>\n",
       "      <td>15970052</td>\n",
       "      <td>15975072</td>\n",
       "      <td>5020</td>\n",
       "    </tr>\n",
       "    <tr>\n",
       "      <th>17</th>\n",
       "      <td>X</td>\n",
       "      <td>13819012</td>\n",
       "      <td>13825349</td>\n",
       "      <td>6337</td>\n",
       "    </tr>\n",
       "    <tr>\n",
       "      <th>18</th>\n",
       "      <td>3R</td>\n",
       "      <td>5668599</td>\n",
       "      <td>5671593</td>\n",
       "      <td>2994</td>\n",
       "    </tr>\n",
       "    <tr>\n",
       "      <th>19</th>\n",
       "      <td>3R</td>\n",
       "      <td>24315911</td>\n",
       "      <td>24321726</td>\n",
       "      <td>5815</td>\n",
       "    </tr>\n",
       "    <tr>\n",
       "      <th>20</th>\n",
       "      <td>3R</td>\n",
       "      <td>26054222</td>\n",
       "      <td>26060727</td>\n",
       "      <td>6505</td>\n",
       "    </tr>\n",
       "    <tr>\n",
       "      <th>21</th>\n",
       "      <td>3R</td>\n",
       "      <td>20573119</td>\n",
       "      <td>20577852</td>\n",
       "      <td>4733</td>\n",
       "    </tr>\n",
       "    <tr>\n",
       "      <th>22</th>\n",
       "      <td>2R</td>\n",
       "      <td>22922946</td>\n",
       "      <td>22927660</td>\n",
       "      <td>4714</td>\n",
       "    </tr>\n",
       "    <tr>\n",
       "      <th>23</th>\n",
       "      <td>2L</td>\n",
       "      <td>11126537</td>\n",
       "      <td>11135827</td>\n",
       "      <td>9290</td>\n",
       "    </tr>\n",
       "    <tr>\n",
       "      <th>24</th>\n",
       "      <td>3R</td>\n",
       "      <td>5598980</td>\n",
       "      <td>5601189</td>\n",
       "      <td>2209</td>\n",
       "    </tr>\n",
       "    <tr>\n",
       "      <th>25</th>\n",
       "      <td>2R</td>\n",
       "      <td>13854749</td>\n",
       "      <td>13864064</td>\n",
       "      <td>9315</td>\n",
       "    </tr>\n",
       "    <tr>\n",
       "      <th>26</th>\n",
       "      <td>2R</td>\n",
       "      <td>14500735</td>\n",
       "      <td>14510266</td>\n",
       "      <td>9531</td>\n",
       "    </tr>\n",
       "    <tr>\n",
       "      <th>27</th>\n",
       "      <td>2L</td>\n",
       "      <td>10384700</td>\n",
       "      <td>10390313</td>\n",
       "      <td>5613</td>\n",
       "    </tr>\n",
       "    <tr>\n",
       "      <th>28</th>\n",
       "      <td>X</td>\n",
       "      <td>17655967</td>\n",
       "      <td>17662793</td>\n",
       "      <td>6826</td>\n",
       "    </tr>\n",
       "    <tr>\n",
       "      <th>29</th>\n",
       "      <td>3R</td>\n",
       "      <td>24581804</td>\n",
       "      <td>24585891</td>\n",
       "      <td>4087</td>\n",
       "    </tr>\n",
       "    <tr>\n",
       "      <th>...</th>\n",
       "      <td>...</td>\n",
       "      <td>...</td>\n",
       "      <td>...</td>\n",
       "      <td>...</td>\n",
       "    </tr>\n",
       "    <tr>\n",
       "      <th>3800</th>\n",
       "      <td>X</td>\n",
       "      <td>4917672</td>\n",
       "      <td>4918570</td>\n",
       "      <td>898</td>\n",
       "    </tr>\n",
       "    <tr>\n",
       "      <th>3801</th>\n",
       "      <td>3L</td>\n",
       "      <td>1298736</td>\n",
       "      <td>1299201</td>\n",
       "      <td>465</td>\n",
       "    </tr>\n",
       "    <tr>\n",
       "      <th>3802</th>\n",
       "      <td>X</td>\n",
       "      <td>2141312</td>\n",
       "      <td>2141896</td>\n",
       "      <td>584</td>\n",
       "    </tr>\n",
       "    <tr>\n",
       "      <th>3803</th>\n",
       "      <td>X</td>\n",
       "      <td>478781</td>\n",
       "      <td>479173</td>\n",
       "      <td>392</td>\n",
       "    </tr>\n",
       "    <tr>\n",
       "      <th>3804</th>\n",
       "      <td>X</td>\n",
       "      <td>1232213</td>\n",
       "      <td>1232231</td>\n",
       "      <td>18</td>\n",
       "    </tr>\n",
       "    <tr>\n",
       "      <th>3805</th>\n",
       "      <td>3R</td>\n",
       "      <td>6676616</td>\n",
       "      <td>6676623</td>\n",
       "      <td>7</td>\n",
       "    </tr>\n",
       "    <tr>\n",
       "      <th>3806</th>\n",
       "      <td>2L</td>\n",
       "      <td>3604425</td>\n",
       "      <td>3604439</td>\n",
       "      <td>14</td>\n",
       "    </tr>\n",
       "    <tr>\n",
       "      <th>3807</th>\n",
       "      <td>3R</td>\n",
       "      <td>11759272</td>\n",
       "      <td>11759274</td>\n",
       "      <td>2</td>\n",
       "    </tr>\n",
       "    <tr>\n",
       "      <th>3808</th>\n",
       "      <td>4</td>\n",
       "      <td>225875</td>\n",
       "      <td>226085</td>\n",
       "      <td>210</td>\n",
       "    </tr>\n",
       "    <tr>\n",
       "      <th>3809</th>\n",
       "      <td>3R</td>\n",
       "      <td>7533680</td>\n",
       "      <td>7533694</td>\n",
       "      <td>14</td>\n",
       "    </tr>\n",
       "    <tr>\n",
       "      <th>3810</th>\n",
       "      <td>2R</td>\n",
       "      <td>12429513</td>\n",
       "      <td>12431161</td>\n",
       "      <td>1648</td>\n",
       "    </tr>\n",
       "    <tr>\n",
       "      <th>3811</th>\n",
       "      <td>3R</td>\n",
       "      <td>26051576</td>\n",
       "      <td>26052398</td>\n",
       "      <td>822</td>\n",
       "    </tr>\n",
       "    <tr>\n",
       "      <th>3812</th>\n",
       "      <td>2R</td>\n",
       "      <td>13963938</td>\n",
       "      <td>13966030</td>\n",
       "      <td>2092</td>\n",
       "    </tr>\n",
       "    <tr>\n",
       "      <th>3813</th>\n",
       "      <td>2L</td>\n",
       "      <td>11496884</td>\n",
       "      <td>11499194</td>\n",
       "      <td>2310</td>\n",
       "    </tr>\n",
       "    <tr>\n",
       "      <th>3814</th>\n",
       "      <td>2L</td>\n",
       "      <td>34319</td>\n",
       "      <td>36189</td>\n",
       "      <td>1870</td>\n",
       "    </tr>\n",
       "    <tr>\n",
       "      <th>3815</th>\n",
       "      <td>X</td>\n",
       "      <td>7059840</td>\n",
       "      <td>7061301</td>\n",
       "      <td>1461</td>\n",
       "    </tr>\n",
       "    <tr>\n",
       "      <th>3816</th>\n",
       "      <td>2R</td>\n",
       "      <td>13165736</td>\n",
       "      <td>13168201</td>\n",
       "      <td>2465</td>\n",
       "    </tr>\n",
       "    <tr>\n",
       "      <th>3817</th>\n",
       "      <td>3R</td>\n",
       "      <td>8846862</td>\n",
       "      <td>8846922</td>\n",
       "      <td>60</td>\n",
       "    </tr>\n",
       "    <tr>\n",
       "      <th>3818</th>\n",
       "      <td>3R</td>\n",
       "      <td>11430546</td>\n",
       "      <td>11430589</td>\n",
       "      <td>43</td>\n",
       "    </tr>\n",
       "    <tr>\n",
       "      <th>3819</th>\n",
       "      <td>2R</td>\n",
       "      <td>19384414</td>\n",
       "      <td>19385616</td>\n",
       "      <td>1202</td>\n",
       "    </tr>\n",
       "    <tr>\n",
       "      <th>3820</th>\n",
       "      <td>2L</td>\n",
       "      <td>822487</td>\n",
       "      <td>822497</td>\n",
       "      <td>10</td>\n",
       "    </tr>\n",
       "    <tr>\n",
       "      <th>3821</th>\n",
       "      <td>3R</td>\n",
       "      <td>9024727</td>\n",
       "      <td>9024735</td>\n",
       "      <td>8</td>\n",
       "    </tr>\n",
       "    <tr>\n",
       "      <th>3822</th>\n",
       "      <td>2L</td>\n",
       "      <td>21259173</td>\n",
       "      <td>21260247</td>\n",
       "      <td>1074</td>\n",
       "    </tr>\n",
       "    <tr>\n",
       "      <th>3823</th>\n",
       "      <td>2L</td>\n",
       "      <td>16419927</td>\n",
       "      <td>16423660</td>\n",
       "      <td>3733</td>\n",
       "    </tr>\n",
       "    <tr>\n",
       "      <th>3824</th>\n",
       "      <td>2L</td>\n",
       "      <td>16261274</td>\n",
       "      <td>16263189</td>\n",
       "      <td>1915</td>\n",
       "    </tr>\n",
       "    <tr>\n",
       "      <th>3825</th>\n",
       "      <td>3R</td>\n",
       "      <td>565835</td>\n",
       "      <td>566082</td>\n",
       "      <td>247</td>\n",
       "    </tr>\n",
       "    <tr>\n",
       "      <th>3826</th>\n",
       "      <td>2L</td>\n",
       "      <td>10439373</td>\n",
       "      <td>10442085</td>\n",
       "      <td>2712</td>\n",
       "    </tr>\n",
       "    <tr>\n",
       "      <th>3827</th>\n",
       "      <td>3R</td>\n",
       "      <td>4477321</td>\n",
       "      <td>4479529</td>\n",
       "      <td>2208</td>\n",
       "    </tr>\n",
       "    <tr>\n",
       "      <th>3828</th>\n",
       "      <td>3L</td>\n",
       "      <td>711347</td>\n",
       "      <td>711871</td>\n",
       "      <td>524</td>\n",
       "    </tr>\n",
       "    <tr>\n",
       "      <th>3829</th>\n",
       "      <td>2L</td>\n",
       "      <td>6792695</td>\n",
       "      <td>6795077</td>\n",
       "      <td>2382</td>\n",
       "    </tr>\n",
       "  </tbody>\n",
       "</table>\n",
       "<p>3830 rows × 4 columns</p>\n",
       "</div>"
      ],
      "text/plain": [
       "     chr     start       end  width\n",
       "0     3L  15823270  15830715   7445\n",
       "1     2R  11451787  11459612   7825\n",
       "2     3R  21665759  21673392   7633\n",
       "3     2R  20324929  20331038   6109\n",
       "4     3R  19859679  19864278   4599\n",
       "5      X  16780987  16791625  10638\n",
       "6      X  19681104  19685973   4869\n",
       "7     3L  14781905  14791724   9819\n",
       "8     2R  24868625  24876436   7811\n",
       "9     2L   8081562   8085704   4142\n",
       "10    3L   8718820   8723594   4774\n",
       "11    3R  24810450  24821651  11201\n",
       "12    2L   3463633   3467166   3533\n",
       "13    3R  29219154  29227022   7868\n",
       "14    2L   8208309   8215244   6935\n",
       "15    3L  16129498  16134790   5292\n",
       "16    3R  15970052  15975072   5020\n",
       "17     X  13819012  13825349   6337\n",
       "18    3R   5668599   5671593   2994\n",
       "19    3R  24315911  24321726   5815\n",
       "20    3R  26054222  26060727   6505\n",
       "21    3R  20573119  20577852   4733\n",
       "22    2R  22922946  22927660   4714\n",
       "23    2L  11126537  11135827   9290\n",
       "24    3R   5598980   5601189   2209\n",
       "25    2R  13854749  13864064   9315\n",
       "26    2R  14500735  14510266   9531\n",
       "27    2L  10384700  10390313   5613\n",
       "28     X  17655967  17662793   6826\n",
       "29    3R  24581804  24585891   4087\n",
       "...   ..       ...       ...    ...\n",
       "3800   X   4917672   4918570    898\n",
       "3801  3L   1298736   1299201    465\n",
       "3802   X   2141312   2141896    584\n",
       "3803   X    478781    479173    392\n",
       "3804   X   1232213   1232231     18\n",
       "3805  3R   6676616   6676623      7\n",
       "3806  2L   3604425   3604439     14\n",
       "3807  3R  11759272  11759274      2\n",
       "3808   4    225875    226085    210\n",
       "3809  3R   7533680   7533694     14\n",
       "3810  2R  12429513  12431161   1648\n",
       "3811  3R  26051576  26052398    822\n",
       "3812  2R  13963938  13966030   2092\n",
       "3813  2L  11496884  11499194   2310\n",
       "3814  2L     34319     36189   1870\n",
       "3815   X   7059840   7061301   1461\n",
       "3816  2R  13165736  13168201   2465\n",
       "3817  3R   8846862   8846922     60\n",
       "3818  3R  11430546  11430589     43\n",
       "3819  2R  19384414  19385616   1202\n",
       "3820  2L    822487    822497     10\n",
       "3821  3R   9024727   9024735      8\n",
       "3822  2L  21259173  21260247   1074\n",
       "3823  2L  16419927  16423660   3733\n",
       "3824  2L  16261274  16263189   1915\n",
       "3825  3R    565835    566082    247\n",
       "3826  2L  10439373  10442085   2712\n",
       "3827  3R   4477321   4479529   2208\n",
       "3828  3L    711347    711871    524\n",
       "3829  2L   6792695   6795077   2382\n",
       "\n",
       "[3830 rows x 4 columns]"
      ]
     },
     "execution_count": 58,
     "metadata": {},
     "output_type": "execute_result"
    }
   ],
   "source": [
    "df_k4.loc[:,\"width\"] = df_k4.loc[:,\"end\"] - df_k4.loc[:,\"start\"]\n",
    "df_k4"
   ]
  },
  {
   "cell_type": "code",
   "execution_count": 59,
   "metadata": {},
   "outputs": [
    {
     "data": {
      "text/html": [
       "<div>\n",
       "<style scoped>\n",
       "    .dataframe tbody tr th:only-of-type {\n",
       "        vertical-align: middle;\n",
       "    }\n",
       "\n",
       "    .dataframe tbody tr th {\n",
       "        vertical-align: top;\n",
       "    }\n",
       "\n",
       "    .dataframe thead th {\n",
       "        text-align: right;\n",
       "    }\n",
       "</style>\n",
       "<table border=\"1\" class=\"dataframe\">\n",
       "  <thead>\n",
       "    <tr style=\"text-align: right;\">\n",
       "      <th></th>\n",
       "      <th>start</th>\n",
       "      <th>end</th>\n",
       "      <th>width</th>\n",
       "    </tr>\n",
       "  </thead>\n",
       "  <tbody>\n",
       "    <tr>\n",
       "      <th>count</th>\n",
       "      <td>3.830000e+03</td>\n",
       "      <td>3.830000e+03</td>\n",
       "      <td>3830.000000</td>\n",
       "    </tr>\n",
       "    <tr>\n",
       "      <th>mean</th>\n",
       "      <td>1.232288e+07</td>\n",
       "      <td>1.232466e+07</td>\n",
       "      <td>1779.086684</td>\n",
       "    </tr>\n",
       "    <tr>\n",
       "      <th>std</th>\n",
       "      <td>7.711626e+06</td>\n",
       "      <td>7.711810e+06</td>\n",
       "      <td>1927.396833</td>\n",
       "    </tr>\n",
       "    <tr>\n",
       "      <th>min</th>\n",
       "      <td>5.082000e+03</td>\n",
       "      <td>6.616000e+03</td>\n",
       "      <td>1.000000</td>\n",
       "    </tr>\n",
       "    <tr>\n",
       "      <th>25%</th>\n",
       "      <td>6.069285e+06</td>\n",
       "      <td>6.070038e+06</td>\n",
       "      <td>388.250000</td>\n",
       "    </tr>\n",
       "    <tr>\n",
       "      <th>50%</th>\n",
       "      <td>1.128937e+07</td>\n",
       "      <td>1.128951e+07</td>\n",
       "      <td>1114.000000</td>\n",
       "    </tr>\n",
       "    <tr>\n",
       "      <th>75%</th>\n",
       "      <td>1.828572e+07</td>\n",
       "      <td>1.828875e+07</td>\n",
       "      <td>2389.000000</td>\n",
       "    </tr>\n",
       "    <tr>\n",
       "      <th>max</th>\n",
       "      <td>3.206773e+07</td>\n",
       "      <td>3.206836e+07</td>\n",
       "      <td>15877.000000</td>\n",
       "    </tr>\n",
       "  </tbody>\n",
       "</table>\n",
       "</div>"
      ],
      "text/plain": [
       "              start           end         width\n",
       "count  3.830000e+03  3.830000e+03   3830.000000\n",
       "mean   1.232288e+07  1.232466e+07   1779.086684\n",
       "std    7.711626e+06  7.711810e+06   1927.396833\n",
       "min    5.082000e+03  6.616000e+03      1.000000\n",
       "25%    6.069285e+06  6.070038e+06    388.250000\n",
       "50%    1.128937e+07  1.128951e+07   1114.000000\n",
       "75%    1.828572e+07  1.828875e+07   2389.000000\n",
       "max    3.206773e+07  3.206836e+07  15877.000000"
      ]
     },
     "execution_count": 59,
     "metadata": {},
     "output_type": "execute_result"
    }
   ],
   "source": [
    "df_k4.describe()"
   ]
  },
  {
   "cell_type": "code",
   "execution_count": 60,
   "metadata": {},
   "outputs": [
    {
     "data": {
      "image/png": "[encoded data removed]",
      "text/plain": [
       "<Figure size 432x288 with 1 Axes>"
      ]
     },
     "metadata": {
      "needs_background": "light"
     },
     "output_type": "display_data"
    }
   ],
   "source": [
    "fig, ax = plt.subplots()\n",
    "ax.hist( df_k4.loc[:,\"width\"] )\n",
    "plt.show()"
   ]
  },
  {
   "cell_type": "markdown",
   "metadata": {},
   "source": [
    "## Question 1: Subplot K9 K27\n",
    "\n",
    "1. Plot K4, K9, and K27 width distributions on the same plot as subplots."
   ]
  },
  {
   "cell_type": "markdown",
   "metadata": {},
   "source": [
    "#### Load Distributions for K4, K9, and K27"
   ]
  },
  {
   "cell_type": "code",
   "execution_count": 65,
   "metadata": {},
   "outputs": [
    {
     "name": "stdout",
     "output_type": "stream",
     "text": [
      "              start           end         width\n",
      "count  3.830000e+03  3.830000e+03   3830.000000\n",
      "mean   1.232288e+07  1.232466e+07   1779.086684\n",
      "std    7.711626e+06  7.711810e+06   1927.396833\n",
      "min    5.082000e+03  6.616000e+03      1.000000\n",
      "25%    6.069285e+06  6.070038e+06    388.250000\n",
      "50%    1.128937e+07  1.128951e+07   1114.000000\n",
      "75%    1.828572e+07  1.828875e+07   2389.000000\n",
      "max    3.206773e+07  3.206836e+07  15877.000000\n",
      "\n",
      "\n",
      "              start           end         width\n",
      "count  2.960000e+02  2.960000e+02  2.960000e+02\n",
      "mean   1.277585e+07  1.284479e+07  6.894818e+04\n",
      "std    8.762886e+06  8.765068e+06  1.324318e+05\n",
      "min    5.031000e+03  1.177500e+04  3.764000e+03\n",
      "25%    4.908705e+06  4.979179e+06  1.873900e+04\n",
      "50%    1.215959e+07  1.218991e+07  3.186400e+04\n",
      "75%    2.061703e+07  2.071932e+07  6.208900e+04\n",
      "max    3.206622e+07  3.207302e+07  1.174364e+06\n",
      "\n",
      "\n",
      "              start           end          width\n",
      "count  4.310000e+02  4.310000e+02     431.000000\n",
      "mean   1.310978e+07  1.315782e+07   48040.417633\n",
      "std    7.918421e+06  7.920135e+06   46082.202731\n",
      "min    5.037000e+03  9.637000e+03     964.000000\n",
      "25%    6.543179e+06  6.580318e+06   20182.000000\n",
      "50%    1.307732e+07  1.313062e+07   31864.000000\n",
      "75%    1.922595e+07  1.930796e+07   55564.000000\n",
      "max    3.148033e+07  3.157129e+07  399864.000000\n",
      "\n",
      "\n"
     ]
    }
   ],
   "source": [
    "df_k4.loc[:,\"width\"] = df_k4.loc[:,\"end\"] - df_k4.loc[:,\"start\"]\n",
    "df_k9.loc[:,\"width\"] = df_k9.loc[:,\"end\"] - df_k9.loc[:,\"start\"]\n",
    "df_k27.loc[:,\"width\"] = df_k27.loc[:,\"end\"] - df_k27.loc[:,\"start\"]\n",
    "\n",
    "print(df_k4.describe())\n",
    "print('\\n')\n",
    "print(df_k9.describe())\n",
    "print('\\n')\n",
    "print(df_k27.describe())\n",
    "print('\\n')"
   ]
  },
  {
   "cell_type": "markdown",
   "metadata": {},
   "source": [
    "#### Plot the widths in a histogram together using subplots\n"
   ]
  },
  {
   "cell_type": "code",
   "execution_count": 74,
   "metadata": {},
   "outputs": [
    {
     "data": {
      "image/png": "[encoded data removed]",
      "text/plain": [
       "<Figure size 432x720 with 3 Axes>"
      ]
     },
     "metadata": {
      "needs_background": "light"
     },
     "output_type": "display_data"
    }
   ],
   "source": [
    "fig, ax = plt.subplots(3)\n",
    "\n",
    "ax[0].hist(df_k4.loc[:,\"width\"] )\n",
    "ax[1].hist(df_k9.loc[:,\"width\"])\n",
    "ax[2].hist(df_k27.loc[:,\"width\"])\n",
    "\n",
    "# Set figure height\n",
    "fig.set_figheight(10)\n",
    "\n",
    "# Set title and x and y labels\n",
    "ax[0].set_title(\"K4 Histogram of Width Data\")\n",
    "ax[0].set_xlabel(\"Chromosome\")\n",
    "ax[0].set_ylabel(\"Counts\")\n",
    "\n",
    "ax[1].set_title(\"K9 Histogram of Width Data\")\n",
    "ax[1].set_xlabel(\"Width\")\n",
    "ax[1].set_ylabel(\"Counts\")\n",
    "\n",
    "ax[2].set_title(\"K27 Histogram of Width Data\")\n",
    "ax[2].set_xlabel(\"Width\")\n",
    "ax[2].set_ylabel(\"Counts\")\n",
    "\n",
    "fig.tight_layout(pad=2.0)\n",
    "plt.show()"
   ]
  },
  {
   "cell_type": "markdown",
   "metadata": {},
   "source": [
    "## Advanced: One plot"
   ]
  },
  {
   "cell_type": "markdown",
   "metadata": {},
   "source": [
    "Can you find one or more ways to make an informative single plot with all three modifications?  Some suggestions:\n",
    "- `np.log2()`\n",
    "- `ax.hist( range, density, cumulative, histtype )`"
   ]
  },
  {
   "cell_type": "code",
   "execution_count": 92,
   "metadata": {},
   "outputs": [
    {
     "data": {
      "image/png": "[encoded data removed]",
      "text/plain": [
       "<Figure size 1008x720 with 1 Axes>"
      ]
     },
     "metadata": {
      "needs_background": "light"
     },
     "output_type": "display_data"
    }
   ],
   "source": [
    "plt.figure(figsize=(14,10))\n",
    "plt.hist(np.log2(df_k4.loc[:,\"width\"]),bins=10,alpha=0.5,density='True',label='K4 Width',histtype='bar')\n",
    "plt.hist(np.log2(df_k9.loc[:,\"width\"]),bins=10,alpha=0.5,density='True',label='K9 Width',histtype='bar')\n",
    "plt.hist(np.log2(df_k27.loc[:,\"width\"]),bins=10,alpha=0.5,density='True',label='K27 Width',histtype='bar')\n",
    "plt.legend(loc='upper right',fontsize=20)\n",
    "plt.rcParams['xtick.labelsize']=20\n",
    "plt.rcParams['ytick.labelsize']=20\n",
    "plt.xlabel('Log2(Width)',fontsize=20)\n",
    "plt.ylabel('Normalized Distribution',fontsize=20)\n",
    "title = \"Normalized log2(Width) distribution\"\n",
    "plt.title(title,fontsize=24)\n",
    "plt.show()"
   ]
  },
  {
   "cell_type": "markdown",
   "metadata": {},
   "source": [
    "# Summary"
   ]
  },
  {
   "cell_type": "markdown",
   "metadata": {},
   "source": [
    "1. Introduce pandas\n",
    "    - `read_table()`\n",
    "    - `.columns` `.index` `.values`\n",
    "    - `.shape`\n",
    "    - `.loc[]`\n",
    "    - `.value_counts()`\n",
    "    - Vectorized operations\n",
    "    - `.describe()`\n",
    "1. More matplotlib\n",
    "    - `ax.bar()`\n",
    "    - `ax.hist()`"
   ]
  }
 ],
 "metadata": {
  "kernelspec": {
   "display_name": "Python 3",
   "language": "python",
   "name": "python3"
  },
  "language_info": {
   "codemirror_mode": {
    "name": "ipython",
    "version": 3
   },
   "file_extension": ".py",
   "mimetype": "text/x-python",
   "name": "python",
   "nbconvert_exporter": "python",
   "pygments_lexer": "ipython3",
   "version": "3.6.9"
  },
  "toc": {
   "base_numbering": 1,
   "nav_menu": {},
   "number_sections": false,
   "sideBar": true,
   "skip_h1_title": false,
   "title_cell": "Table of Contents",
   "title_sidebar": "Contents",
   "toc_cell": false,
   "toc_position": {},
   "toc_section_display": true,
   "toc_window_display": true
  }
 },
 "nbformat": 4,
 "nbformat_minor": 4
}
